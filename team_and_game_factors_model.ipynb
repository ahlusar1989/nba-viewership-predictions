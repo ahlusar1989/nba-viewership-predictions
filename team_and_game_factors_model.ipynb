{
 "cells": [
  {
   "cell_type": "code",
   "execution_count": 2,
   "metadata": {},
   "outputs": [],
   "source": [
    "import pandas as pd\n",
    "import numpy as np\n",
    "from sklearn.preprocessing import LabelEncoder\n",
    "from sklearn.preprocessing import OneHotEncoder"
   ]
  },
  {
   "cell_type": "code",
   "execution_count": 3,
   "metadata": {},
   "outputs": [],
   "source": [
    "import statsmodels.api as smi\n",
    "from sklearn.linear_model import LinearRegression\n",
    "from sklearn.model_selection import KFold"
   ]
  },
  {
   "cell_type": "code",
   "execution_count": 3,
   "metadata": {},
   "outputs": [],
   "source": [
    "def create_single_game_dimension(original_df):\n",
    "    all_countries = list(\"C-%s\" % country for country in original_df[\"Country\"].unique().tolist())\n",
    "    df_index = [\"Season\", \"Home_Team\", \"Away_Team\", \"Game_Date\"] + all_countries\n",
    "    new_df = pd.DataFrame(index=df_index)\n",
    "    \n",
    "    for game in original_df[\"Game_ID\"].unique():\n",
    "        \n",
    "        game_series = pd.Series(index = df_index)\n",
    "        game_specific_rows = original_df.loc[original_df[\"Game_ID\"] == game, :]\n",
    "        # Since most of the data for a game is repeated, we just get the first information from the first row of the game \n",
    "        game_series.loc[[\"Season\", \"Home_Team\", \"Away_Team\", \"Game_Date\"]] = game_specific_rows.iloc[0, :].loc[[\"Season\", \"Home_Team\", \"Away_Team\", \"Game_Date\"]]\n",
    "\n",
    "        for idx, row in original_df.iterrows():\n",
    "            game_series.loc[\"C-%s\" % row[\"Country\"]] = row[\"Rounded Viewers\"]\n",
    "        new_df[game] = game_series\n",
    "\n",
    "    # At this point the columns are game_ids and the rows are the information/data\n",
    "    # we need to swap these in order to make it easier to apply linear regression\n",
    "    new_df = new_df.T\n",
    "    # Add the total viewers by summing over the country columns\n",
    "    country_cols = [country for country in new_df.columns if \"C-\" in country]\n",
    "    new_df[\"Aggregate_Total_Viewers_By_Country\"] = new_df.loc[:, country_cols].sum(axis=1)\n",
    "    return new_df"
   ]
  },
  {
   "cell_type": "code",
   "execution_count": 4,
   "metadata": {},
   "outputs": [],
   "source": [
    "def create_team_vector(single_game_df):\n",
    "    \"\"\"Function for creating a two-hot vector with bits representing the presence of specific teams in the game\"\"\"\n",
    "    # Converting teams to integer encoding\n",
    "    team_encoder = LabelEncoder()\n",
    "    team_encoder.fit(np.ravel([single_game_df[\"Home_Team\"], single_game_df[\"Away_Team\"]]))\n",
    "    single_game_df[\"Home_Team_Code\"] = team_encoder.transform(single_game_df[\"Home_Team\"])\n",
    "    single_game_df[\"Away_Team_Code\"] = team_encoder.transform(single_game_df[\"Away_Team\"])\n",
    "\n",
    "    vector_encoder = OneHotEncoder(sparse=False)\n",
    "    away_vectors = vector_encoder.fit_transform(single_game_df[\"Away_Team_Code\"].values.reshape(-1, 1))\n",
    "    home_vectors = vector_encoder.fit_transform(single_game_df[\"Home_Team_Code\"].values.reshape(-1, 1))\n",
    "    combined_vector = away_vectors + home_vectors\n",
    "    combined_df = pd.DataFrame(data=combined_vector, index=single_game_df.index,\n",
    "                               columns=[\"T-%s\" % e for e in team_encoder.classes_])\n",
    "\n",
    "    merged_df = pd.concat([single_game_df, comb_df], axis=1)\n",
    "    return merged_df"
   ]
  },
  {
   "cell_type": "code",
   "execution_count": 5,
   "metadata": {},
   "outputs": [],
   "source": [
    "# Original training set given by NBA\n",
    "training_filename = \"training_set.csv\"\n",
    "original_df = pd.read_csv(training_filename)\n",
    "full_df = create_single_game_dimension(original_df=train_df)\n",
    "# there are some N/A values for numeric dtypes - we replace them with n/a\n",
    "full_df = full_df.fillna(0)\n",
    "# Intermediate saving since create_single_game_df takes a few seconds to run\n",
    "full_df.to_csv(\"training_set_games.csv\", index=True)\n",
    "full_df = pd.read_csv(\"training_set_games.csv\", index_col=0)\n",
    "team_df = create_team_vector(full_df)"
   ]
  },
  {
   "cell_type": "code",
   "execution_count": null,
   "metadata": {},
   "outputs": [],
   "source": []
  }
 ],
 "metadata": {
  "kernelspec": {
   "display_name": "Python 3",
   "language": "python",
   "name": "python3"
  },
  "language_info": {
   "codemirror_mode": {
    "name": "ipython",
    "version": 3
   },
   "file_extension": ".py",
   "mimetype": "text/x-python",
   "name": "python",
   "nbconvert_exporter": "python",
   "pygments_lexer": "ipython3",
   "version": "3.5.1"
  }
 },
 "nbformat": 4,
 "nbformat_minor": 2
}
